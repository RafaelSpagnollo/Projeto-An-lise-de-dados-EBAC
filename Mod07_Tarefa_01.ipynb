{
 "cells": [
  {
   "cell_type": "markdown",
   "metadata": {
    "id": "d8yCrvnM_2sd"
   },
   "source": [
    "# Módulo 07, Tarefa 01\n",
    "\n",
    "Vamos começar a mexer na nossa base de projeto? Já fizemos um exercício de montar a variável resposta, já pudemos perceber que essa atividade pode não ser trivial. Vamos agora trabalhar a base para que fique propícia ao *scikitlearn* para trabalharmos.\n",
    "\n",
    "Lembrando, a base se chama demo01.csv, e originalmente está publicada [aqui](https://www.kaggle.com/rikdifos/credit-card-approval-prediction)."
   ]
  },
  {
   "cell_type": "markdown",
   "metadata": {
    "id": "hcMBVVE8_2sg"
   },
   "source": [
    "#### 1) Carregue a base e avalie:\n",
    "\n",
    "- As variáveis\n",
    "- Tipos de dados de cada variável\n",
    "- Quantidade de missings\n",
    "- Distribuição da variável resposta (mau)"
   ]
  },
  {
   "cell_type": "code",
   "execution_count": 66,
   "metadata": {
    "id": "jfUxW_PX_2sh"
   },
   "outputs": [
    {
     "data": {
      "text/html": [
       "<div>\n",
       "<style scoped>\n",
       "    .dataframe tbody tr th:only-of-type {\n",
       "        vertical-align: middle;\n",
       "    }\n",
       "\n",
       "    .dataframe tbody tr th {\n",
       "        vertical-align: top;\n",
       "    }\n",
       "\n",
       "    .dataframe thead th {\n",
       "        text-align: right;\n",
       "    }\n",
       "</style>\n",
       "<table border=\"1\" class=\"dataframe\">\n",
       "  <thead>\n",
       "    <tr style=\"text-align: right;\">\n",
       "      <th></th>\n",
       "      <th>sexo</th>\n",
       "      <th>posse_de_veiculo</th>\n",
       "      <th>posse_de_imovel</th>\n",
       "      <th>qtd_filhos</th>\n",
       "      <th>tipo_renda</th>\n",
       "      <th>educacao</th>\n",
       "      <th>estado_civil</th>\n",
       "      <th>tipo_residencia</th>\n",
       "      <th>idade</th>\n",
       "      <th>tempo_emprego</th>\n",
       "      <th>possui_celular</th>\n",
       "      <th>possui_fone_comercial</th>\n",
       "      <th>possui_fone</th>\n",
       "      <th>possui_email</th>\n",
       "      <th>qt_pessoas_residencia</th>\n",
       "      <th>mau</th>\n",
       "    </tr>\n",
       "  </thead>\n",
       "  <tbody>\n",
       "    <tr>\n",
       "      <th>0</th>\n",
       "      <td>M</td>\n",
       "      <td>Y</td>\n",
       "      <td>Y</td>\n",
       "      <td>0</td>\n",
       "      <td>Working</td>\n",
       "      <td>Secondary / secondary special</td>\n",
       "      <td>Married</td>\n",
       "      <td>House / apartment</td>\n",
       "      <td>58.832877</td>\n",
       "      <td>3.106849</td>\n",
       "      <td>1</td>\n",
       "      <td>0</td>\n",
       "      <td>0</td>\n",
       "      <td>0</td>\n",
       "      <td>2.0</td>\n",
       "      <td>False</td>\n",
       "    </tr>\n",
       "    <tr>\n",
       "      <th>1</th>\n",
       "      <td>F</td>\n",
       "      <td>N</td>\n",
       "      <td>Y</td>\n",
       "      <td>0</td>\n",
       "      <td>Commercial associate</td>\n",
       "      <td>Secondary / secondary special</td>\n",
       "      <td>Single / not married</td>\n",
       "      <td>House / apartment</td>\n",
       "      <td>52.356164</td>\n",
       "      <td>8.358904</td>\n",
       "      <td>1</td>\n",
       "      <td>0</td>\n",
       "      <td>1</td>\n",
       "      <td>1</td>\n",
       "      <td>1.0</td>\n",
       "      <td>False</td>\n",
       "    </tr>\n",
       "    <tr>\n",
       "      <th>2</th>\n",
       "      <td>F</td>\n",
       "      <td>N</td>\n",
       "      <td>Y</td>\n",
       "      <td>0</td>\n",
       "      <td>Commercial associate</td>\n",
       "      <td>Secondary / secondary special</td>\n",
       "      <td>Single / not married</td>\n",
       "      <td>House / apartment</td>\n",
       "      <td>52.356164</td>\n",
       "      <td>8.358904</td>\n",
       "      <td>1</td>\n",
       "      <td>0</td>\n",
       "      <td>1</td>\n",
       "      <td>1</td>\n",
       "      <td>1.0</td>\n",
       "      <td>False</td>\n",
       "    </tr>\n",
       "    <tr>\n",
       "      <th>3</th>\n",
       "      <td>M</td>\n",
       "      <td>Y</td>\n",
       "      <td>Y</td>\n",
       "      <td>0</td>\n",
       "      <td>Working</td>\n",
       "      <td>Higher education</td>\n",
       "      <td>Married</td>\n",
       "      <td>House / apartment</td>\n",
       "      <td>46.224658</td>\n",
       "      <td>2.106849</td>\n",
       "      <td>1</td>\n",
       "      <td>1</td>\n",
       "      <td>1</td>\n",
       "      <td>1</td>\n",
       "      <td>2.0</td>\n",
       "      <td>False</td>\n",
       "    </tr>\n",
       "    <tr>\n",
       "      <th>4</th>\n",
       "      <td>F</td>\n",
       "      <td>Y</td>\n",
       "      <td>N</td>\n",
       "      <td>0</td>\n",
       "      <td>Working</td>\n",
       "      <td>Incomplete higher</td>\n",
       "      <td>Married</td>\n",
       "      <td>House / apartment</td>\n",
       "      <td>29.230137</td>\n",
       "      <td>3.021918</td>\n",
       "      <td>1</td>\n",
       "      <td>0</td>\n",
       "      <td>0</td>\n",
       "      <td>0</td>\n",
       "      <td>2.0</td>\n",
       "      <td>False</td>\n",
       "    </tr>\n",
       "  </tbody>\n",
       "</table>\n",
       "</div>"
      ],
      "text/plain": [
       "  sexo posse_de_veiculo posse_de_imovel  qtd_filhos            tipo_renda  \\\n",
       "0    M                Y               Y           0               Working   \n",
       "1    F                N               Y           0  Commercial associate   \n",
       "2    F                N               Y           0  Commercial associate   \n",
       "3    M                Y               Y           0               Working   \n",
       "4    F                Y               N           0               Working   \n",
       "\n",
       "                        educacao          estado_civil    tipo_residencia  \\\n",
       "0  Secondary / secondary special               Married  House / apartment   \n",
       "1  Secondary / secondary special  Single / not married  House / apartment   \n",
       "2  Secondary / secondary special  Single / not married  House / apartment   \n",
       "3               Higher education               Married  House / apartment   \n",
       "4              Incomplete higher               Married  House / apartment   \n",
       "\n",
       "       idade  tempo_emprego  possui_celular  possui_fone_comercial  \\\n",
       "0  58.832877       3.106849               1                      0   \n",
       "1  52.356164       8.358904               1                      0   \n",
       "2  52.356164       8.358904               1                      0   \n",
       "3  46.224658       2.106849               1                      1   \n",
       "4  29.230137       3.021918               1                      0   \n",
       "\n",
       "   possui_fone  possui_email  qt_pessoas_residencia    mau  \n",
       "0            0             0                    2.0  False  \n",
       "1            1             1                    1.0  False  \n",
       "2            1             1                    1.0  False  \n",
       "3            1             1                    2.0  False  \n",
       "4            0             0                    2.0  False  "
      ]
     },
     "execution_count": 66,
     "metadata": {},
     "output_type": "execute_result"
    }
   ],
   "source": [
    "import pandas as pd\n",
    "import numpy as np\n",
    "\n",
    "df = pd.read_csv('demo01.csv', na_values=['', ' ', 'NA', 'N/A'])\n",
    "\n",
    "# avaliar as variáveis\n",
    "df.head()"
   ]
  },
  {
   "cell_type": "code",
   "execution_count": 32,
   "metadata": {},
   "outputs": [
    {
     "data": {
      "text/plain": [
       "sexo                      object\n",
       "posse_de_veiculo          object\n",
       "posse_de_imovel           object\n",
       "qtd_filhos                 int64\n",
       "tipo_renda                object\n",
       "educacao                  object\n",
       "estado_civil              object\n",
       "tipo_residencia           object\n",
       "idade                    float64\n",
       "tempo_emprego            float64\n",
       "possui_celular             int64\n",
       "possui_fone_comercial      int64\n",
       "possui_fone                int64\n",
       "possui_email               int64\n",
       "qt_pessoas_residencia    float64\n",
       "mau                         bool\n",
       "dtype: object"
      ]
     },
     "execution_count": 32,
     "metadata": {},
     "output_type": "execute_result"
    }
   ],
   "source": [
    "# tipos das variáveis\n",
    "df.dtypes"
   ]
  },
  {
   "cell_type": "code",
   "execution_count": 33,
   "metadata": {},
   "outputs": [
    {
     "data": {
      "text/plain": [
       "sexo                     16650\n",
       "posse_de_veiculo         16650\n",
       "posse_de_imovel          16650\n",
       "qtd_filhos               16650\n",
       "tipo_renda               16650\n",
       "educacao                 16650\n",
       "estado_civil             16650\n",
       "tipo_residencia          16650\n",
       "idade                    16650\n",
       "tempo_emprego            16650\n",
       "possui_celular           16650\n",
       "possui_fone_comercial    16650\n",
       "possui_fone              16650\n",
       "possui_email             16650\n",
       "qt_pessoas_residencia    16650\n",
       "mau                      16650\n",
       "dtype: int64"
      ]
     },
     "metadata": {},
     "output_type": "display_data"
    },
    {
     "name": "stdout",
     "output_type": "stream",
     "text": [
      "['M' 'F']\n",
      "['Y' 'N']\n",
      "['Y' 'N']\n",
      "[ 0  1  3  2  4  5 14  7]\n",
      "['Working' 'Commercial associate' 'State servant' 'Pensioner' 'Student']\n",
      "['Secondary / secondary special' 'Higher education' 'Incomplete higher'\n",
      " 'Lower secondary' 'Academic degree']\n",
      "['Married' 'Single / not married' 'Civil marriage' 'Widow' 'Separated']\n",
      "['House / apartment' 'Rented apartment' 'Municipal apartment'\n",
      " 'With parents' 'Co-op apartment' 'Office apartment']\n",
      "[58.83287671 52.35616438 46.22465753 ... 54.93972603 35.83561644\n",
      " 43.3890411 ]\n",
      "[ 3.10684932  8.35890411  2.10684932 ... 22.35890411  1.66027397\n",
      " 30.88219178]\n",
      "[1]\n",
      "[0 1]\n",
      "[0 1]\n",
      "[0 1]\n",
      "[ 2.  1.  5.  3.  4.  6. 15.  9.  7.]\n",
      "[False  True]\n"
     ]
    },
    {
     "data": {
      "text/html": [
       "<div>\n",
       "<style scoped>\n",
       "    .dataframe tbody tr th:only-of-type {\n",
       "        vertical-align: middle;\n",
       "    }\n",
       "\n",
       "    .dataframe tbody tr th {\n",
       "        vertical-align: top;\n",
       "    }\n",
       "\n",
       "    .dataframe thead th {\n",
       "        text-align: right;\n",
       "    }\n",
       "</style>\n",
       "<table border=\"1\" class=\"dataframe\">\n",
       "  <thead>\n",
       "    <tr style=\"text-align: right;\">\n",
       "      <th></th>\n",
       "      <th>sexo</th>\n",
       "      <th>posse_de_veiculo</th>\n",
       "      <th>posse_de_imovel</th>\n",
       "      <th>qtd_filhos</th>\n",
       "      <th>tipo_renda</th>\n",
       "      <th>educacao</th>\n",
       "      <th>estado_civil</th>\n",
       "      <th>tipo_residencia</th>\n",
       "      <th>idade</th>\n",
       "      <th>tempo_emprego</th>\n",
       "      <th>possui_celular</th>\n",
       "      <th>possui_fone_comercial</th>\n",
       "      <th>possui_fone</th>\n",
       "      <th>possui_email</th>\n",
       "      <th>qt_pessoas_residencia</th>\n",
       "      <th>mau</th>\n",
       "    </tr>\n",
       "  </thead>\n",
       "  <tbody>\n",
       "  </tbody>\n",
       "</table>\n",
       "</div>"
      ],
      "text/plain": [
       "Empty DataFrame\n",
       "Columns: [sexo, posse_de_veiculo, posse_de_imovel, qtd_filhos, tipo_renda, educacao, estado_civil, tipo_residencia, idade, tempo_emprego, possui_celular, possui_fone_comercial, possui_fone, possui_email, qt_pessoas_residencia, mau]\n",
       "Index: []"
      ]
     },
     "execution_count": 33,
     "metadata": {},
     "output_type": "execute_result"
    }
   ],
   "source": [
    "# Quantidade de missings\n",
    "\n",
    "df.replace('', np.nan, inplace=True)\n",
    "df.replace(' ', np.nan, inplace=True)\n",
    "\n",
    "display(df.count()) # todas as colunas contém o mesmo número de dados \n",
    "\n",
    "# verificando se há algum valor missing classificado que necessita ser retificado\n",
    "for column in df.columns:\n",
    "    print(df[column].unique())\n",
    "\n",
    "df[df.isnull().any(axis=1)]\n",
    "# aparentemente, não há nenhum valor missing"
   ]
  },
  {
   "cell_type": "code",
   "execution_count": 18,
   "metadata": {},
   "outputs": [
    {
     "data": {
      "text/plain": [
       "mau\n",
       "False    16260\n",
       "True       390\n",
       "Name: count, dtype: int64"
      ]
     },
     "execution_count": 18,
     "metadata": {},
     "output_type": "execute_result"
    }
   ],
   "source": [
    "# Distribuição da variável resposta (mau)\n",
    "df['mau'].value_counts()"
   ]
  },
  {
   "cell_type": "markdown",
   "metadata": {
    "id": "_v0f02mE_2si"
   },
   "source": [
    "#### 2) Vamos montar um metadados\n",
    "\n",
    "1. Crie um dataframe com os nomes de cada variável e o tipo de dados de cada variável.\n",
    "2. Adicione uma coluna nesse *dataframe* chamada \"qtd_categorias\" e coloque nela o número de categorias correspondente de cada variável.\n",
    "    Dica:\n",
    "        1. inicie uma lista vazia\n",
    "        2. faça um for ao longo dos nomes das variáveis,\n",
    "        3. conte o número de categorias dessa variável\n",
    "        4. acumule essa informação de 3. na lista que você criou em 1.\n",
    "        5. No final, essa lista pode ser atribuída à nossa variável."
   ]
  },
  {
   "cell_type": "code",
   "execution_count": 42,
   "metadata": {
    "id": "gNF5BRdA_2si"
   },
   "outputs": [
    {
     "data": {
      "text/html": [
       "<div>\n",
       "<style scoped>\n",
       "    .dataframe tbody tr th:only-of-type {\n",
       "        vertical-align: middle;\n",
       "    }\n",
       "\n",
       "    .dataframe tbody tr th {\n",
       "        vertical-align: top;\n",
       "    }\n",
       "\n",
       "    .dataframe thead th {\n",
       "        text-align: right;\n",
       "    }\n",
       "</style>\n",
       "<table border=\"1\" class=\"dataframe\">\n",
       "  <thead>\n",
       "    <tr style=\"text-align: right;\">\n",
       "      <th></th>\n",
       "      <th>Variavel</th>\n",
       "      <th>Tipo_de_dados</th>\n",
       "      <th>Qtd_categorias</th>\n",
       "    </tr>\n",
       "  </thead>\n",
       "  <tbody>\n",
       "    <tr>\n",
       "      <th>0</th>\n",
       "      <td>sexo</td>\n",
       "      <td>object</td>\n",
       "      <td>2.0</td>\n",
       "    </tr>\n",
       "    <tr>\n",
       "      <th>1</th>\n",
       "      <td>posse_de_veiculo</td>\n",
       "      <td>object</td>\n",
       "      <td>2.0</td>\n",
       "    </tr>\n",
       "    <tr>\n",
       "      <th>2</th>\n",
       "      <td>posse_de_imovel</td>\n",
       "      <td>object</td>\n",
       "      <td>2.0</td>\n",
       "    </tr>\n",
       "    <tr>\n",
       "      <th>3</th>\n",
       "      <td>qtd_filhos</td>\n",
       "      <td>int64</td>\n",
       "      <td>NaN</td>\n",
       "    </tr>\n",
       "    <tr>\n",
       "      <th>4</th>\n",
       "      <td>tipo_renda</td>\n",
       "      <td>object</td>\n",
       "      <td>5.0</td>\n",
       "    </tr>\n",
       "    <tr>\n",
       "      <th>5</th>\n",
       "      <td>educacao</td>\n",
       "      <td>object</td>\n",
       "      <td>5.0</td>\n",
       "    </tr>\n",
       "    <tr>\n",
       "      <th>6</th>\n",
       "      <td>estado_civil</td>\n",
       "      <td>object</td>\n",
       "      <td>5.0</td>\n",
       "    </tr>\n",
       "    <tr>\n",
       "      <th>7</th>\n",
       "      <td>tipo_residencia</td>\n",
       "      <td>object</td>\n",
       "      <td>6.0</td>\n",
       "    </tr>\n",
       "    <tr>\n",
       "      <th>8</th>\n",
       "      <td>idade</td>\n",
       "      <td>float64</td>\n",
       "      <td>NaN</td>\n",
       "    </tr>\n",
       "    <tr>\n",
       "      <th>9</th>\n",
       "      <td>tempo_emprego</td>\n",
       "      <td>float64</td>\n",
       "      <td>NaN</td>\n",
       "    </tr>\n",
       "    <tr>\n",
       "      <th>10</th>\n",
       "      <td>possui_celular</td>\n",
       "      <td>int64</td>\n",
       "      <td>NaN</td>\n",
       "    </tr>\n",
       "    <tr>\n",
       "      <th>11</th>\n",
       "      <td>possui_fone_comercial</td>\n",
       "      <td>int64</td>\n",
       "      <td>NaN</td>\n",
       "    </tr>\n",
       "    <tr>\n",
       "      <th>12</th>\n",
       "      <td>possui_fone</td>\n",
       "      <td>int64</td>\n",
       "      <td>NaN</td>\n",
       "    </tr>\n",
       "    <tr>\n",
       "      <th>13</th>\n",
       "      <td>possui_email</td>\n",
       "      <td>int64</td>\n",
       "      <td>NaN</td>\n",
       "    </tr>\n",
       "    <tr>\n",
       "      <th>14</th>\n",
       "      <td>qt_pessoas_residencia</td>\n",
       "      <td>float64</td>\n",
       "      <td>NaN</td>\n",
       "    </tr>\n",
       "    <tr>\n",
       "      <th>15</th>\n",
       "      <td>mau</td>\n",
       "      <td>bool</td>\n",
       "      <td>NaN</td>\n",
       "    </tr>\n",
       "  </tbody>\n",
       "</table>\n",
       "</div>"
      ],
      "text/plain": [
       "                 Variavel Tipo_de_dados  Qtd_categorias\n",
       "0                    sexo        object             2.0\n",
       "1        posse_de_veiculo        object             2.0\n",
       "2         posse_de_imovel        object             2.0\n",
       "3              qtd_filhos         int64             NaN\n",
       "4              tipo_renda        object             5.0\n",
       "5                educacao        object             5.0\n",
       "6            estado_civil        object             5.0\n",
       "7         tipo_residencia        object             6.0\n",
       "8                   idade       float64             NaN\n",
       "9           tempo_emprego       float64             NaN\n",
       "10         possui_celular         int64             NaN\n",
       "11  possui_fone_comercial         int64             NaN\n",
       "12            possui_fone         int64             NaN\n",
       "13           possui_email         int64             NaN\n",
       "14  qt_pessoas_residencia       float64             NaN\n",
       "15                    mau          bool             NaN"
      ]
     },
     "execution_count": 42,
     "metadata": {},
     "output_type": "execute_result"
    }
   ],
   "source": [
    "variaveis = df.columns # series com os nomes das colunas\n",
    "tipos_variaveis = df.dtypes.values # series com os tipos de dados\n",
    "\n",
    "\n",
    "qtd_categorias = []\n",
    "for variavel in variaveis:\n",
    "    if df[variavel].dtype == 'object':\n",
    "        qtd_categorias.append(df[variavel].nunique()) # contando os valores possíveis quando é categórico\n",
    "    else:\n",
    "        qtd_categorias.append(np.nan) # NaN quando não é categórico\n",
    "        \n",
    "\n",
    "# criando o dataframe com as series criadas acima\n",
    "metadados = pd.DataFrame({\n",
    "    'Variavel': variaveis,\n",
    "    'Tipo_de_dados': tipos_variaveis,\n",
    "    'Qtd_categorias': qtd_categorias\n",
    "}, index=None)\n",
    "        \n",
    "metadados"
   ]
  },
  {
   "cell_type": "markdown",
   "metadata": {
    "id": "h0XKJFhY_2si"
   },
   "source": [
    "#### 3) Crie variáveis dummy para as variáveis necessárias (i.e. aquelas que são qualitativas e não estão armazenadas como {0, 1} ou {True, False}. Crie um *dataframe* apenas com as variáveis apropriadas para entrada no scikitlearn - elimine as variáveis tipo *str*, mantendo apenas suas versões *dummy*."
   ]
  },
  {
   "cell_type": "code",
   "execution_count": 82,
   "metadata": {
    "id": "ePbdZDOi_2sj"
   },
   "outputs": [
    {
     "name": "stdout",
     "output_type": "stream",
     "text": [
      "['tipo_renda', 'educacao', 'estado_civil', 'tipo_residencia']\n",
      "['sexo', 'posse_de_veiculo', 'posse_de_imovel']\n"
     ]
    }
   ],
   "source": [
    "# Criando listas só com as variáveis categóricas para criar os dummies (diferenciando as variáveis com 2 categorias das demais)\n",
    "lista_categoricos_2 = list(metadados.loc[metadados['Qtd_categorias'] == 2]['Variavel'])\n",
    "lista_categoricos = list(metadados.loc[metadados['Qtd_categorias'] > 2]['Variavel'])\n",
    "print(lista_categoricos)\n",
    "print(lista_categoricos_2)"
   ]
  },
  {
   "cell_type": "code",
   "execution_count": 81,
   "metadata": {},
   "outputs": [
    {
     "data": {
      "text/plain": [
       "qtd_filhos                                  int64\n",
       "idade                                     float64\n",
       "tempo_emprego                             float64\n",
       "possui_celular                              int64\n",
       "possui_fone_comercial                       int64\n",
       "possui_fone                                 int64\n",
       "possui_email                                int64\n",
       "qt_pessoas_residencia                     float64\n",
       "mau                                          bool\n",
       "sexo_M                                       bool\n",
       "posse_de_veiculo_Y                           bool\n",
       "posse_de_imovel_Y                            bool\n",
       "tipo_renda_Commercial associate              bool\n",
       "tipo_renda_Pensioner                         bool\n",
       "tipo_renda_State servant                     bool\n",
       "tipo_renda_Student                           bool\n",
       "tipo_renda_Working                           bool\n",
       "educacao_Academic degree                     bool\n",
       "educacao_Higher education                    bool\n",
       "educacao_Incomplete higher                   bool\n",
       "educacao_Lower secondary                     bool\n",
       "educacao_Secondary / secondary special       bool\n",
       "estado_civil_Civil marriage                  bool\n",
       "estado_civil_Married                         bool\n",
       "estado_civil_Separated                       bool\n",
       "estado_civil_Single / not married            bool\n",
       "estado_civil_Widow                           bool\n",
       "tipo_residencia_Co-op apartment              bool\n",
       "tipo_residencia_House / apartment            bool\n",
       "tipo_residencia_Municipal apartment          bool\n",
       "tipo_residencia_Office apartment             bool\n",
       "tipo_residencia_Rented apartment             bool\n",
       "tipo_residencia_With parents                 bool\n",
       "dtype: object"
      ]
     },
     "execution_count": 81,
     "metadata": {},
     "output_type": "execute_result"
    }
   ],
   "source": [
    "# criando um novo dataframe com as colunas de dummies para processar mais a frente\n",
    "df_dummies = df.copy()\n",
    "for variavel in lista_categoricos_2:\n",
    "    df_dummies = pd.get_dummies(df_dummies, columns=[variavel], drop_first=True)\n",
    "for variavel in lista_categoricos:\n",
    "    df_dummies = pd.get_dummies(df_dummies, columns=[variavel])\n",
    "\n",
    "df_dummies.dtypes"
   ]
  },
  {
   "cell_type": "markdown",
   "metadata": {
    "id": "uhaqFcPE_2sj"
   },
   "source": [
    "#### 4) Qual variável é mais poderosa?\n",
    "\n",
    "Considere as variáveis ```possui_email``` e ```posse_de_veiculo```. Faça uma tabela cruzada entre elas e responda qual delas te parece mais poderosa para prever a probabilidade de ```mau = 1```?"
   ]
  },
  {
   "cell_type": "code",
   "execution_count": 99,
   "metadata": {
    "id": "3wUAHc_-_2sj"
   },
   "outputs": [
    {
     "data": {
      "text/html": [
       "<div>\n",
       "<style scoped>\n",
       "    .dataframe tbody tr th:only-of-type {\n",
       "        vertical-align: middle;\n",
       "    }\n",
       "\n",
       "    .dataframe tbody tr th {\n",
       "        vertical-align: top;\n",
       "    }\n",
       "\n",
       "    .dataframe thead th {\n",
       "        text-align: right;\n",
       "    }\n",
       "</style>\n",
       "<table border=\"1\" class=\"dataframe\">\n",
       "  <thead>\n",
       "    <tr style=\"text-align: right;\">\n",
       "      <th>mau</th>\n",
       "      <th>False</th>\n",
       "      <th>True</th>\n",
       "    </tr>\n",
       "    <tr>\n",
       "      <th>posse_de_veiculo</th>\n",
       "      <th></th>\n",
       "      <th></th>\n",
       "    </tr>\n",
       "  </thead>\n",
       "  <tbody>\n",
       "    <tr>\n",
       "      <th>N</th>\n",
       "      <td>0.975732</td>\n",
       "      <td>0.024268</td>\n",
       "    </tr>\n",
       "    <tr>\n",
       "      <th>Y</th>\n",
       "      <td>0.977905</td>\n",
       "      <td>0.022095</td>\n",
       "    </tr>\n",
       "  </tbody>\n",
       "</table>\n",
       "</div>"
      ],
      "text/plain": [
       "mau                  False     True \n",
       "posse_de_veiculo                    \n",
       "N                 0.975732  0.024268\n",
       "Y                 0.977905  0.022095"
      ]
     },
     "metadata": {},
     "output_type": "display_data"
    },
    {
     "data": {
      "text/html": [
       "<div>\n",
       "<style scoped>\n",
       "    .dataframe tbody tr th:only-of-type {\n",
       "        vertical-align: middle;\n",
       "    }\n",
       "\n",
       "    .dataframe tbody tr th {\n",
       "        vertical-align: top;\n",
       "    }\n",
       "\n",
       "    .dataframe thead th {\n",
       "        text-align: right;\n",
       "    }\n",
       "</style>\n",
       "<table border=\"1\" class=\"dataframe\">\n",
       "  <thead>\n",
       "    <tr style=\"text-align: right;\">\n",
       "      <th>mau</th>\n",
       "      <th>False</th>\n",
       "      <th>True</th>\n",
       "    </tr>\n",
       "    <tr>\n",
       "      <th>possui_email</th>\n",
       "      <th></th>\n",
       "      <th></th>\n",
       "    </tr>\n",
       "  </thead>\n",
       "  <tbody>\n",
       "    <tr>\n",
       "      <th>0</th>\n",
       "      <td>0.976269</td>\n",
       "      <td>0.023731</td>\n",
       "    </tr>\n",
       "    <tr>\n",
       "      <th>1</th>\n",
       "      <td>0.979730</td>\n",
       "      <td>0.020270</td>\n",
       "    </tr>\n",
       "  </tbody>\n",
       "</table>\n",
       "</div>"
      ],
      "text/plain": [
       "mau              False     True \n",
       "possui_email                    \n",
       "0             0.976269  0.023731\n",
       "1             0.979730  0.020270"
      ]
     },
     "metadata": {},
     "output_type": "display_data"
    },
    {
     "name": "stdout",
     "output_type": "stream",
     "text": [
      "\n",
      "Proporção de mau = 1 para possui_email:\n"
     ]
    },
    {
     "data": {
      "text/plain": [
       "possui_email\n",
       "0    0.023731\n",
       "1    0.020270\n",
       "Name: mau, dtype: float64"
      ]
     },
     "metadata": {},
     "output_type": "display_data"
    },
    {
     "name": "stdout",
     "output_type": "stream",
     "text": [
      "\n",
      "Proporção de mau = 1 para posse_de_veiculo:\n"
     ]
    },
    {
     "data": {
      "text/plain": [
       "posse_de_veiculo\n",
       "N    0.024268\n",
       "Y    0.022095\n",
       "Name: mau, dtype: float64"
      ]
     },
     "metadata": {},
     "output_type": "display_data"
    }
   ],
   "source": [
    "# possui_email\n",
    "crosstab_email = pd.crosstab(df['possui_email'], df['mau'], normalize='index')\n",
    "\n",
    "# posse_de_veiculo\n",
    "crosstab_veiculo = pd.crosstab(df['posse_de_veiculo'], df['mau'], normalize='index')\n",
    "\n",
    "\n",
    "display(crosstab_veiculo)\n",
    "display(crosstab_email)\n",
    "\n",
    "\n",
    "# proporções de mau = 1 para cada categoria de possui_email\n",
    "proporcao_email = df.groupby('possui_email')['mau'].mean()\n",
    "\n",
    "# proporções de mau = 1 para cada categoria de posse_de_veiculo\n",
    "proporcao_veiculo = df.groupby('posse_de_veiculo')['mau'].mean()\n",
    "\n",
    "print('\\nProporção de mau = 1 para possui_email:')\n",
    "display(proporcao_email)\n",
    "\n",
    "print('\\nProporção de mau = 1 para posse_de_veiculo:')\n",
    "display(proporcao_veiculo)\n",
    "\n",
    "# Ambas as variáveis parecem ser muito pouco discriminatórias, pois a proporção é muito parecida tanto entre quem possui quanto\n",
    "# entre quem não possui veículo ou email, mas eu escolheria a variável 'possui_email' por ter uma diferença pouca coisa mais \n",
    "# significativa do que a variável 'posse_de_veiculo'."
   ]
  },
  {
   "cell_type": "markdown",
   "metadata": {
    "id": "G2Issl2e_2sj"
   },
   "source": [
    "#### 5) Salve a base, pois ela será utilizada no final deste módulo."
   ]
  },
  {
   "cell_type": "code",
   "execution_count": 95,
   "metadata": {
    "id": "KSEj8OL9_2sk"
   },
   "outputs": [],
   "source": [
    "df_dummies.to_csv('Mod07_Tarefa_01_df_dummies.csv', index=False)"
   ]
  }
 ],
 "metadata": {
  "colab": {
   "provenance": []
  },
  "kernelspec": {
   "display_name": "Python 3 (ipykernel)",
   "language": "python",
   "name": "python3"
  },
  "language_info": {
   "codemirror_mode": {
    "name": "ipython",
    "version": 3
   },
   "file_extension": ".py",
   "mimetype": "text/x-python",
   "name": "python",
   "nbconvert_exporter": "python",
   "pygments_lexer": "ipython3",
   "version": "3.11.7"
  }
 },
 "nbformat": 4,
 "nbformat_minor": 1
}
